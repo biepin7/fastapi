{
 "cells": [
  {
   "cell_type": "markdown",
   "metadata": {},
   "source": [
    "# FastAPI 官网Tutorial "
   ]
  },
  {
   "cell_type": "markdown",
   "metadata": {},
   "source": [
    "PS：这里是@biepin的fastapi学习过程记录\n",
    "目的：\n",
    "1.熟悉mac的操作\n",
    "2.熟悉Jupyter的操作\n",
    "3.练一手Fastapi\n",
    "4.万一它还能帮到更多的人呢"
   ]
  },
  {
   "cell_type": "markdown",
   "metadata": {},
   "source": [
    "> 本notebook仅仅是官网的复制粘贴和翻译 偶尔写一点自己的心得体会 "
   ]
  },
  {
   "cell_type": "markdown",
   "metadata": {},
   "source": [
    "## Tutorial - User Guide - Intro / 教程 - 用户指南 - 简介"
   ]
  },
  {
   "cell_type": "markdown",
   "metadata": {},
   "source": [
    "### Install FastAPI /安装 FastAPI \n"
   ]
  },
  {
   "cell_type": "markdown",
   "metadata": {},
   "source": [
    "####  方法一：\n",
    "\n",
    "打开命令行键入：\n",
    "```\n",
    "pip install fastapi[all]\n",
    "```\n",
    "\n",
    "> U1S1 我从来没成功过 所以我使用方法二\n",
    "\n",
    "\n",
    "####  方法二：\n",
    "\n",
    "```\n",
    "pip3 install fastapi\n",
    "\n",
    "pip3 install uvicorn\n",
    "\n",
    "```"
   ]
  },
  {
   "cell_type": "markdown",
   "metadata": {},
   "source": [
    "### 运行 fastapi\n",
    "\n",
    "在命令行键入：\n",
    "\n",
    "\n",
    "```\n",
    "uvicorn main:app --reload\n",
    "```\n",
    "\n",
    "（如果你是个新手：\n",
    "1.这一行运行你可以先不管\n",
    "2.本行命令需要你已经在本级目录下已经有了 ： mian .py 而且在里面已经有了相应的代码\n",
    "3.建议在接下来的：First Steps/第一步（Hello world） 中编写了mian.py 后运行"
   ]
  },
  {
   "cell_type": "markdown",
   "metadata": {},
   "source": [
    "### First Steps/第一步（Hello world）"
   ]
  },
  {
   "cell_type": "markdown",
   "metadata": {},
   "source": [
    "在目录下新建：main.py 并写入：\n",
    "\n",
    "```\n",
    "from fastapi import FastAPI\n",
    "\n",
    "app = FastAPI()\n",
    "\n",
    "\n",
    "@app.get(\"/\")\n",
    "async def root():\n",
    "    return {\"message\": \"Hello World\"}\n",
    "```\n",
    "\n",
    "这时候就可以在命令行：\n",
    "```\n",
    "uvicorn main:app --reload\n",
    "```\n",
    "\n",
    "效果如下：\n",
    "\n",
    "![](https://gitee.com/biepin/imgurl/raw/master/20201108175039.png)"
   ]
  },
  {
   "cell_type": "code",
   "execution_count": null,
   "metadata": {},
   "outputs": [],
   "source": []
  },
  {
   "cell_type": "code",
   "execution_count": null,
   "metadata": {},
   "outputs": [],
   "source": []
  },
  {
   "cell_type": "code",
   "execution_count": null,
   "metadata": {},
   "outputs": [],
   "source": []
  }
 ],
 "metadata": {
  "kernelspec": {
   "display_name": "Python 3",
   "language": "python",
   "name": "python3"
  },
  "language_info": {
   "codemirror_mode": {
    "name": "ipython",
    "version": 3
   },
   "file_extension": ".py",
   "mimetype": "text/x-python",
   "name": "python",
   "nbconvert_exporter": "python",
   "pygments_lexer": "ipython3",
   "version": "3.9.0"
  }
 },
 "nbformat": 4,
 "nbformat_minor": 4
}
